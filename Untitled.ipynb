{
 "cells": [
  {
   "cell_type": "code",
   "execution_count": 13,
   "id": "ab51db9e-a933-49a8-847d-657f10392b23",
   "metadata": {},
   "outputs": [
    {
     "name": "stdout",
     "output_type": "stream",
     "text": [
      "64\n"
     ]
    },
    {
     "data": {
      "text/plain": [
       "'\\n\\x1b[41mS\\x1b[0mFFFFFFF\\nFFFFFFFF\\nFFFHFFFF\\nFFFFFHFF\\nFFFHFFFF\\nFHHFFFHF\\nFHFFHFHF\\nFFFHFFFG\\n'"
      ]
     },
     "execution_count": 13,
     "metadata": {},
     "output_type": "execute_result"
    }
   ],
   "source": [
    "import gymnasium\n",
    "import numpy as np\n",
    "\n",
    "env = gymnasium.make(\"FrozenLake-v1\", desc=None, map_name=\"8x8\", is_slippery=True, render_mode=\"ansi\")\n",
    "print(env.observation_space.n)\n",
    "env.reset()\n",
    "env.render()"
   ]
  },
  {
   "cell_type": "code",
   "execution_count": null,
   "id": "dd3dcdd6-6478-4177-92bf-942b48771ecf",
   "metadata": {},
   "outputs": [],
   "source": []
  }
 ],
 "metadata": {
  "kernelspec": {
   "display_name": "Python 3 (ipykernel)",
   "language": "python",
   "name": "python3"
  },
  "language_info": {
   "codemirror_mode": {
    "name": "ipython",
    "version": 3
   },
   "file_extension": ".py",
   "mimetype": "text/x-python",
   "name": "python",
   "nbconvert_exporter": "python",
   "pygments_lexer": "ipython3",
   "version": "3.11.0"
  }
 },
 "nbformat": 4,
 "nbformat_minor": 5
}
